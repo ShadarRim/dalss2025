{
  "nbformat": 4,
  "nbformat_minor": 0,
  "metadata": {
    "colab": {
      "provenance": []
    },
    "kernelspec": {
      "name": "python3",
      "display_name": "Python 3"
    },
    "language_info": {
      "name": "python"
    }
  },
  "cells": [
    {
      "cell_type": "markdown",
      "source": [
        "# Простейшая программа на Python"
      ],
      "metadata": {
        "id": "VDU3pUWLfI7k"
      }
    },
    {
      "cell_type": "code",
      "execution_count": null,
      "metadata": {
        "colab": {
          "base_uri": "https://localhost:8080/"
        },
        "id": "dec9F5TKfAqN",
        "outputId": "807b7e31-aa42-47ad-ff9b-692b13686538"
      },
      "outputs": [
        {
          "output_type": "stream",
          "name": "stdout",
          "text": [
            "1\n",
            "1.0\n",
            "q\n"
          ]
        }
      ],
      "source": [
        "print(1) # int()\n",
        "print(1.0) # float()\n",
        "print('q') # str()"
      ]
    },
    {
      "cell_type": "code",
      "source": [
        "print(1, 'wer')\n",
        "print(1, 2, 3)\n",
        "print(1, 2, 3, sep='\\n')\n",
        "print('q')\n",
        "print('w')"
      ],
      "metadata": {
        "colab": {
          "base_uri": "https://localhost:8080/"
        },
        "id": "xR862O9jh-ev",
        "outputId": "c7d49de9-8795-4a4a-d8db-aae7b32be6b5"
      },
      "execution_count": null,
      "outputs": [
        {
          "output_type": "stream",
          "name": "stdout",
          "text": [
            "1 wer\n",
            "1 2 3\n",
            "1\n",
            "2\n",
            "3\n",
            "q\n",
            "w\n"
          ]
        }
      ]
    },
    {
      "cell_type": "code",
      "source": [
        "print(2 + 3)\n",
        "print(2 - 3)\n",
        "print(2 * 3)\n",
        "\n",
        "print(4 / 2)\n",
        "print(4 // 2)\n",
        "print(4.5 // 0.5)\n",
        "print(4 % 3)\n",
        "\n",
        "print(4 ** 0.5)\n",
        "print(8 ** (1 / 3))\n",
        "\n",
        "print(max(1, 2, 3))\n",
        "print(min(1, 2, 3))\n",
        "print(abs(-7))\n",
        "print(abs(7)) # Comment 1"
      ],
      "metadata": {
        "colab": {
          "base_uri": "https://localhost:8080/"
        },
        "id": "yfk0_7StjPJx",
        "outputId": "ce97198c-3254-4c5a-bf5e-10ca186d3e76"
      },
      "execution_count": null,
      "outputs": [
        {
          "output_type": "stream",
          "name": "stdout",
          "text": [
            "5\n",
            "-1\n",
            "6\n",
            "2.0\n",
            "2\n",
            "9.0\n",
            "1\n",
            "2.0\n",
            "2.0\n",
            "3\n",
            "1\n",
            "7\n",
            "7\n"
          ]
        }
      ]
    },
    {
      "cell_type": "code",
      "source": [
        "a = 3\n",
        "print(a)\n",
        "a = 4.5\n",
        "print(a)\n",
        "b = 'b'\n",
        "print(b)\n",
        "a = b\n",
        "print(a, b)"
      ],
      "metadata": {
        "colab": {
          "base_uri": "https://localhost:8080/"
        },
        "id": "MJv3Z2lWmbDZ",
        "outputId": "b492be97-6ae8-476e-ebe6-d6503f7f2957"
      },
      "execution_count": null,
      "outputs": [
        {
          "output_type": "stream",
          "name": "stdout",
          "text": [
            "3\n",
            "4.5\n",
            "b\n",
            "b b\n"
          ]
        }
      ]
    },
    {
      "cell_type": "code",
      "source": [
        "a = 'coffee'\n",
        "b = 'tea'\n",
        "c = 1\n",
        "a, b = b, a\n",
        "print(a, b)"
      ],
      "metadata": {
        "colab": {
          "base_uri": "https://localhost:8080/"
        },
        "id": "bivvOorym97c",
        "outputId": "bb1b62b5-45f5-4403-9673-26b41231c5d5"
      },
      "execution_count": null,
      "outputs": [
        {
          "output_type": "stream",
          "name": "stdout",
          "text": [
            "tea coffee\n"
          ]
        }
      ]
    },
    {
      "cell_type": "markdown",
      "source": [
        "Обменять значения переменных местами"
      ],
      "metadata": {
        "id": "hJMIwT17m-oO"
      }
    },
    {
      "cell_type": "code",
      "source": [
        "lst = [1, 2, 3] # list\n",
        "print(lst)"
      ],
      "metadata": {
        "colab": {
          "base_uri": "https://localhost:8080/"
        },
        "id": "zbWNzxaXn34D",
        "outputId": "4a12403e-d324-43c2-a3e3-a6309d470004"
      },
      "execution_count": null,
      "outputs": [
        {
          "output_type": "stream",
          "name": "stdout",
          "text": [
            "[1, 2, 3]\n"
          ]
        }
      ]
    },
    {
      "cell_type": "code",
      "source": [
        "a1 = [1, 2]\n",
        "a2 = a1.copy()\n",
        "print(a1, a2)\n",
        "a1[0] = 3\n",
        "print(a1, a2)"
      ],
      "metadata": {
        "colab": {
          "base_uri": "https://localhost:8080/"
        },
        "id": "91E_jQ0QrPT2",
        "outputId": "15814295-21c5-44a1-c24c-8d895b980630"
      },
      "execution_count": null,
      "outputs": [
        {
          "output_type": "stream",
          "name": "stdout",
          "text": [
            "[1, 2] [1, 2]\n",
            "[3, 2] [1, 2]\n"
          ]
        }
      ]
    },
    {
      "cell_type": "markdown",
      "source": [
        "# Логический тип"
      ],
      "metadata": {
        "id": "fcViFW0lsIKX"
      }
    },
    {
      "cell_type": "code",
      "source": [
        "print(True, False)\n",
        "a, b = \"1\", \"abc\"\n",
        "print(a > b)\n",
        "print(a < b)\n",
        "print(a >= b)\n",
        "print(a <= b)\n",
        "print(a == b)\n",
        "print(a != b)\n",
        "print(ord(\"a\"))\n",
        "print(chr(700))\n",
        "print(chr(ord(\"a\") + 26))\n",
        "print(\"a\" + \"b\")\n",
        "print(\"a\" * 3)\n",
        "\n",
        "print(int(1 > 2))\n",
        "# int()"
      ],
      "metadata": {
        "colab": {
          "base_uri": "https://localhost:8080/"
        },
        "id": "PaO_uaVpsVTH",
        "outputId": "db813f3e-37d3-4edd-b682-17f46b9df3d2"
      },
      "execution_count": null,
      "outputs": [
        {
          "output_type": "stream",
          "name": "stdout",
          "text": [
            "True False\n",
            "False\n",
            "True\n",
            "False\n",
            "True\n",
            "False\n",
            "True\n",
            "97\n",
            "ʼ\n",
            "{\n",
            "ab\n",
            "aaa\n",
            "0\n"
          ]
        }
      ]
    },
    {
      "cell_type": "code",
      "source": [
        "print(int(\"1\"))\n",
        "print(int(1.8))\n",
        "print(float(\"1.5\"))\n",
        "print(float(1))\n",
        "print(str(1), str(1.5))\n",
        "print(int(True), int(False))\n",
        "print(bool(3), bool(-3))\n",
        "print(bool(0))"
      ],
      "metadata": {
        "colab": {
          "base_uri": "https://localhost:8080/"
        },
        "id": "n03hFl2DvnJp",
        "outputId": "8417618d-16be-4a86-8e3e-8266a6e6dd87"
      },
      "execution_count": null,
      "outputs": [
        {
          "output_type": "stream",
          "name": "stdout",
          "text": [
            "1\n",
            "1\n",
            "1.5\n",
            "1.0\n",
            "1 1.5\n",
            "1 0\n",
            "True True\n",
            "False\n"
          ]
        }
      ]
    },
    {
      "cell_type": "markdown",
      "source": [
        "# Условный оператор"
      ],
      "metadata": {
        "id": "8sJn33eEwKz8"
      }
    },
    {
      "cell_type": "code",
      "source": [
        "t = int(input())\n",
        "c = int(input())\n",
        "print(t + c)\n",
        "if t + c > 8:\n",
        "  print(\"Good\")\n",
        "elif t + c < 3:\n",
        "  print(\"So-so\")\n",
        "else:\n",
        "  print(\"bad\")"
      ],
      "metadata": {
        "colab": {
          "base_uri": "https://localhost:8080/"
        },
        "id": "8lT50usrwJUG",
        "outputId": "f1ead984-b81b-4e83-9c07-fdd7fba76d69"
      },
      "execution_count": null,
      "outputs": [
        {
          "output_type": "stream",
          "name": "stdout",
          "text": [
            "5\n",
            "5\n",
            "10\n",
            "Good\n",
            "bad\n"
          ]
        }
      ]
    },
    {
      "cell_type": "code",
      "source": [
        "count_bottles # snake_case\n",
        "countBottles # camelCase"
      ],
      "metadata": {
        "id": "rXT6EFZJxXfX"
      },
      "execution_count": null,
      "outputs": []
    },
    {
      "cell_type": "code",
      "source": [
        "t = float(input())\n",
        "if t == 36.6:\n",
        "  print(\"OK\")\n",
        "elif t == 37:\n",
        "  print(\"PANIC\")\n",
        "elif t == 38:\n",
        "  print(\"AAAAAAA!\")\n",
        "elif t == 39:\n",
        "  print(\"Hmm, I want drink tea\")\n",
        "elif t == 40:\n",
        "  print(\"Ambulance\")\n",
        "else:\n",
        "  print(\"...\")"
      ],
      "metadata": {
        "id": "nx5wnGqzym4-"
      },
      "execution_count": null,
      "outputs": []
    },
    {
      "cell_type": "code",
      "source": [
        "t = float(input())\n",
        "match t:\n",
        "  case 36.6:\n",
        "    print(\"OK\")\n",
        "  case 36.7:\n",
        "    print(\".\")"
      ],
      "metadata": {
        "colab": {
          "base_uri": "https://localhost:8080/"
        },
        "id": "HAOX6pM4zACu",
        "outputId": "3783ec12-0268-4052-f0f4-b1ad01e1af3d"
      },
      "execution_count": null,
      "outputs": [
        {
          "output_type": "stream",
          "name": "stdout",
          "text": [
            "36.6\n",
            "OK\n"
          ]
        }
      ]
    },
    {
      "cell_type": "code",
      "source": [
        "a, b = int(input()), int(input())\n",
        "if a > b and a % 2 == 0:\n",
        "  print(\"OK\")\n",
        "if a > b or a % 2 == 0:\n",
        "  print(\"OK 2\")\n",
        "if a <= b:\n",
        "  print(\"OK 3\")"
      ],
      "metadata": {
        "colab": {
          "base_uri": "https://localhost:8080/",
          "height": 105
        },
        "id": "J2Q-l1CMzgnm",
        "outputId": "7cd422dd-ec72-4c12-cdbf-dbbad84e944d"
      },
      "execution_count": null,
      "outputs": [
        {
          "output_type": "error",
          "ename": "SyntaxError",
          "evalue": "invalid syntax (ipython-input-2169186276.py, line 6)",
          "traceback": [
            "\u001b[0;36m  File \u001b[0;32m\"/tmp/ipython-input-2169186276.py\"\u001b[0;36m, line \u001b[0;32m6\u001b[0m\n\u001b[0;31m    if !(a <= b):\u001b[0m\n\u001b[0m       ^\u001b[0m\n\u001b[0;31mSyntaxError\u001b[0m\u001b[0;31m:\u001b[0m invalid syntax\n"
          ]
        }
      ]
    },
    {
      "cell_type": "code",
      "source": [
        "s1, s2 = input(), input()\n",
        "print(len(s1), len(s2))\n",
        "if s2 not in s1:\n",
        "  print(\"OK\")\n",
        "else:\n",
        "  print(\"NO\")"
      ],
      "metadata": {
        "colab": {
          "base_uri": "https://localhost:8080/"
        },
        "id": "-H_ixA7J0OlQ",
        "outputId": "b6178b07-c810-456c-822d-95de661018c2"
      },
      "execution_count": null,
      "outputs": [
        {
          "output_type": "stream",
          "name": "stdout",
          "text": [
            "abrac\n",
            "g\n",
            "5 1\n",
            "OK\n"
          ]
        }
      ]
    },
    {
      "cell_type": "markdown",
      "source": [
        "# Циклы в Python"
      ],
      "metadata": {
        "id": "qkv73odm09Qn"
      }
    },
    {
      "cell_type": "code",
      "source": [
        "salary = 0\n",
        "while salary <= 5000:\n",
        "  cake_cost = int(input())\n",
        "  salary += cake_cost\n",
        "print(salary)"
      ],
      "metadata": {
        "colab": {
          "base_uri": "https://localhost:8080/"
        },
        "id": "TjSXqCap0_hr",
        "outputId": "73b51193-9dcf-457e-f490-8efa130a5c4c"
      },
      "execution_count": null,
      "outputs": [
        {
          "output_type": "stream",
          "name": "stdout",
          "text": [
            "5000\n",
            "1\n",
            "5001\n"
          ]
        }
      ]
    },
    {
      "cell_type": "code",
      "source": [
        "salary = 0\n",
        "for count in range(3): # 0, 1, 2\n",
        "  cake_cost = int(input())\n",
        "  salary += cake_cost\n",
        "print(salary)"
      ],
      "metadata": {
        "colab": {
          "base_uri": "https://localhost:8080/"
        },
        "id": "urtIjGfb2rz8",
        "outputId": "8a5c6366-c8f5-45ef-9e7d-0f4acdfcb0b0"
      },
      "execution_count": null,
      "outputs": [
        {
          "output_type": "stream",
          "name": "stdout",
          "text": [
            "1000\n",
            "0\n",
            "2000\n",
            "1\n",
            "3000\n",
            "2\n",
            "6000\n"
          ]
        }
      ]
    },
    {
      "cell_type": "code",
      "source": [
        "range(n) => [0, 1, ..., n - 1]\n",
        "range(0, n)\n",
        "range(n, m) => [n, n + 1, n + 2, ..., m - 1]\n",
        "range(n, m + 1)\n",
        "range(n,m, 2) => [n, n + 2, ..., m - 1]\n"
      ],
      "metadata": {
        "id": "S1i2nDqS3UEC"
      },
      "execution_count": null,
      "outputs": []
    },
    {
      "cell_type": "code",
      "source": [
        "print(*range(2, 5))\n",
        "print(*range(5, -1, -1))"
      ],
      "metadata": {
        "colab": {
          "base_uri": "https://localhost:8080/"
        },
        "id": "qrv0Bi0i4AU3",
        "outputId": "16b9c64e-0b8e-4dc8-c154-ee5f435dc31a"
      },
      "execution_count": null,
      "outputs": [
        {
          "output_type": "stream",
          "name": "stdout",
          "text": [
            "2 3 4\n",
            "5 4 3 2 1 0\n"
          ]
        }
      ]
    },
    {
      "cell_type": "code",
      "source": [
        "a, b, c = map(int, input().split(\", \"))\n",
        "print(a, b, c)"
      ],
      "metadata": {
        "colab": {
          "base_uri": "https://localhost:8080/"
        },
        "id": "MbHVHlZ94h3P",
        "outputId": "ef61ccf4-0129-41d6-c095-bcc93ff6641a"
      },
      "execution_count": null,
      "outputs": [
        {
          "output_type": "stream",
          "name": "stdout",
          "text": [
            "1, 2, 3\n",
            "1 2 3\n"
          ]
        }
      ]
    },
    {
      "cell_type": "code",
      "source": [
        "lst = list(map(int, input().split()))\n",
        "print(lst)"
      ],
      "metadata": {
        "colab": {
          "base_uri": "https://localhost:8080/"
        },
        "id": "nX3T5M404yfi",
        "outputId": "0c2088e1-4df1-44f3-80b7-50c6a9220586"
      },
      "execution_count": null,
      "outputs": [
        {
          "output_type": "stream",
          "name": "stdout",
          "text": [
            "1 2 3 4\n",
            "[1, 2, 3, 4]\n"
          ]
        }
      ]
    }
  ]
}