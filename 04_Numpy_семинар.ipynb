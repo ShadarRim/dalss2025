{
  "nbformat": 4,
  "nbformat_minor": 0,
  "metadata": {
    "colab": {
      "provenance": []
    },
    "kernelspec": {
      "name": "python3",
      "display_name": "Python 3"
    },
    "language_info": {
      "name": "python"
    }
  },
  "cells": [
    {
      "cell_type": "markdown",
      "source": [
        "# Массивы\n",
        "\n",
        "numpy == np\n",
        "\n",
        "pandas == pd\n",
        "\n",
        "matplotlib == plt"
      ],
      "metadata": {
        "id": "TBecqZIFbmaa"
      }
    },
    {
      "cell_type": "code",
      "execution_count": null,
      "metadata": {
        "colab": {
          "base_uri": "https://localhost:8080/"
        },
        "id": "gPFtikoxbjIo",
        "outputId": "0c56b494-a264-42be-fb16-566a1bf6f6f9"
      },
      "outputs": [
        {
          "output_type": "stream",
          "name": "stdout",
          "text": [
            "[[1 2 3]\n",
            " [3 2 1]]\n",
            "(2, 3)\n"
          ]
        }
      ],
      "source": [
        "import numpy as np\n",
        "\n",
        "arr = np.array([[1, 2, 3],\n",
        "               [3, 2, 1]])\n",
        "print(arr)\n",
        "print(arr.shape)\n",
        "\n",
        "# одномерный массив == вектор"
      ]
    },
    {
      "cell_type": "code",
      "source": [
        "arr0 = np.array([1, 2, 3])\n",
        "arr1 = np.array([[1, 2, 3],\n",
        "                [3, 2, 1]])\n",
        "arr2 = np.array([[[1, 1, 1],\n",
        "                  [2, 2, 2]],\n",
        "                [[3, 3, 3],\n",
        "                 [4, 4, 4]]])\n",
        "print(arr0, arr1, arr2, sep=\"\\n\\n\")\n",
        "print(arr0.dtype, arr1.dtype, arr2.dtype)"
      ],
      "metadata": {
        "colab": {
          "base_uri": "https://localhost:8080/"
        },
        "id": "K8pBq_5Zecme",
        "outputId": "afde9f1d-197e-4fe5-858c-10db68e6eb50"
      },
      "execution_count": null,
      "outputs": [
        {
          "output_type": "stream",
          "name": "stdout",
          "text": [
            "[1 2 3]\n",
            "\n",
            "[[1 2 3]\n",
            " [3 2 1]]\n",
            "\n",
            "[[[1 1 1]\n",
            "  [2 2 2]]\n",
            "\n",
            " [[3 3 3]\n",
            "  [4 4 4]]]\n",
            "int64 int64 int64\n"
          ]
        }
      ]
    },
    {
      "cell_type": "code",
      "source": [
        "arr_float = np.array([5, 6, 7], dtype=np.float16)\n",
        "print(arr_float, arr_float.dtype, sep=\"\\n\")"
      ],
      "metadata": {
        "colab": {
          "base_uri": "https://localhost:8080/"
        },
        "id": "m4LU6lxKfg-A",
        "outputId": "03e33e12-4e18-413a-9b92-c6f4c5e960de"
      },
      "execution_count": null,
      "outputs": [
        {
          "output_type": "stream",
          "name": "stdout",
          "text": [
            "[5. 6. 7.]\n",
            "float16\n"
          ]
        }
      ]
    },
    {
      "cell_type": "code",
      "source": [
        "print(arr0 - arr_float)"
      ],
      "metadata": {
        "colab": {
          "base_uri": "https://localhost:8080/"
        },
        "id": "IfSGkzxHgBml",
        "outputId": "ec181881-05e3-49d9-bd48-cab14bf33fbb"
      },
      "execution_count": null,
      "outputs": [
        {
          "output_type": "execute_result",
          "data": {
            "text/plain": [
              "array([-4., -4., -4.])"
            ]
          },
          "metadata": {},
          "execution_count": 19
        }
      ]
    },
    {
      "cell_type": "markdown",
      "source": [
        "# Диапазоны"
      ],
      "metadata": {
        "id": "tMiH7DYjhBgI"
      }
    },
    {
      "cell_type": "code",
      "source": [
        "arr0 = np.arange(5)\n",
        "arr1 = np.arange(2, 14, 3, dtype=np.float16)\n",
        "arr2 = np.arange(3, 5.5, 0.5)\n",
        "arr3 = np.arange(8, -1, -1)\n",
        "print(arr0, arr1, arr2, sep='\\n')"
      ],
      "metadata": {
        "colab": {
          "base_uri": "https://localhost:8080/"
        },
        "id": "uoL-f2uBhDpH",
        "outputId": "5b70e547-00ab-4818-9952-8a60da723cbf"
      },
      "execution_count": null,
      "outputs": [
        {
          "output_type": "stream",
          "name": "stdout",
          "text": [
            "[0 1 2 3 4]\n",
            "[ 2.  5.  8. 11.]\n",
            "[3.  3.5 4.  4.5 5. ]\n"
          ]
        }
      ]
    },
    {
      "cell_type": "code",
      "source": [
        "arr0 = np.linspace(3, 12, 6)\n",
        "arr1 = np.linspace(2, 14, 4)\n",
        "print(arr0, arr1, sep=\"\\n\")"
      ],
      "metadata": {
        "colab": {
          "base_uri": "https://localhost:8080/"
        },
        "id": "W3LSIPoBi4Ks",
        "outputId": "506098d4-e7fa-4ead-85e4-392be3ed16ed"
      },
      "execution_count": null,
      "outputs": [
        {
          "output_type": "stream",
          "name": "stdout",
          "text": [
            "[ 3.   4.8  6.6  8.4 10.2 12. ]\n",
            "[ 2.  6. 10. 14.]\n"
          ]
        }
      ]
    },
    {
      "cell_type": "markdown",
      "source": [
        "# Матрицы, чем-то связанные с математикой"
      ],
      "metadata": {
        "id": "_ANBCuhpmC8g"
      }
    },
    {
      "cell_type": "code",
      "source": [
        "arr_eye = np.eye(4)\n",
        "arr_eye_rect = np.eye(4, 3)\n",
        "print(arr_eye, arr_eye_rect, sep='\\n\\n')"
      ],
      "metadata": {
        "colab": {
          "base_uri": "https://localhost:8080/"
        },
        "id": "E3WkcwjKmHwC",
        "outputId": "c78430a4-da8c-467b-faac-2d4dfc09e789"
      },
      "execution_count": null,
      "outputs": [
        {
          "output_type": "stream",
          "name": "stdout",
          "text": [
            "[[1. 0. 0. 0.]\n",
            " [0. 1. 0. 0.]\n",
            " [0. 0. 1. 0.]\n",
            " [0. 0. 0. 1.]]\n",
            "\n",
            "[[1. 0. 0.]\n",
            " [0. 1. 0.]\n",
            " [0. 0. 1.]\n",
            " [0. 0. 0.]]\n"
          ]
        }
      ]
    },
    {
      "cell_type": "code",
      "source": [
        "arr = np.diag([1, 2, 3, 4])\n",
        "print(arr, arr.dtype)\n",
        "arr2 = np.diag([1., 2., 3.], 1)\n",
        "print(arr2, arr2.dtype)"
      ],
      "metadata": {
        "colab": {
          "base_uri": "https://localhost:8080/"
        },
        "id": "GWdJZI6Imyff",
        "outputId": "ccfd7382-fc19-4c25-8427-06e03c5d7558"
      },
      "execution_count": null,
      "outputs": [
        {
          "output_type": "stream",
          "name": "stdout",
          "text": [
            "[[1 0 0 0]\n",
            " [0 2 0 0]\n",
            " [0 0 3 0]\n",
            " [0 0 0 4]] int64\n",
            "[[0. 1. 0. 0.]\n",
            " [0. 0. 2. 0.]\n",
            " [0. 0. 0. 3.]\n",
            " [0. 0. 0. 0.]] float64\n"
          ]
        }
      ]
    },
    {
      "cell_type": "code",
      "source": [
        "arr3 = [[1, 2, 3, 4],\n",
        "        [5, 6, 7, 8],\n",
        "        [8, 7, 6, 5],\n",
        "        [4, 3, 2, 1]]\n",
        "print(np.diag(arr3), np.diag(arr3, 2), sep='\\n')"
      ],
      "metadata": {
        "colab": {
          "base_uri": "https://localhost:8080/"
        },
        "id": "g1WDCcewnMTF",
        "outputId": "693776c1-5adb-4c25-9726-4bec8a71018e"
      },
      "execution_count": null,
      "outputs": [
        {
          "output_type": "stream",
          "name": "stdout",
          "text": [
            "[1 6 6 1]\n",
            "[3 8]\n"
          ]
        }
      ]
    },
    {
      "cell_type": "code",
      "source": [
        "arr_ones = np.ones((4, 3))\n",
        "arr_zeros = np.zeros((2, 3, 4), dtype=np.int_)\n",
        "print(arr_ones, arr_zeros, sep='\\n\\n')"
      ],
      "metadata": {
        "colab": {
          "base_uri": "https://localhost:8080/"
        },
        "id": "16L_vGRJnso5",
        "outputId": "69d06e81-c251-4a50-d284-a77c97f281a6"
      },
      "execution_count": null,
      "outputs": [
        {
          "output_type": "stream",
          "name": "stdout",
          "text": [
            "[[1. 1. 1.]\n",
            " [1. 1. 1.]\n",
            " [1. 1. 1.]\n",
            " [1. 1. 1.]]\n",
            "\n",
            "[[[0 0 0 0]\n",
            "  [0 0 0 0]\n",
            "  [0 0 0 0]]\n",
            "\n",
            " [[0 0 0 0]\n",
            "  [0 0 0 0]\n",
            "  [0 0 0 0]]]\n"
          ]
        }
      ]
    },
    {
      "cell_type": "code",
      "source": [
        "arr_rnd = np.random.random((3, 2))\n",
        "print(arr_rnd)\n",
        "print()\n",
        "arr_rnd_int = np.random.randint(1, 9, (2, 4))\n",
        "print(arr_rnd_int)\n",
        "print()\n",
        "arr_sample = np.random.randn(10)\n",
        "print(arr_sample)"
      ],
      "metadata": {
        "colab": {
          "base_uri": "https://localhost:8080/"
        },
        "id": "0xxVR3SxpiXm",
        "outputId": "b94ad2cb-b5dd-436c-e19d-ed7fdad7cd78"
      },
      "execution_count": null,
      "outputs": [
        {
          "output_type": "stream",
          "name": "stdout",
          "text": [
            "[[0.03542208 0.96088457]\n",
            " [0.35797573 0.13395152]\n",
            " [0.30755346 0.8647963 ]]\n",
            "\n",
            "[[4 2 2 7]\n",
            " [2 1 7 2]]\n",
            "\n",
            "[-0.31499745  1.42185778 -0.8615932   0.98277662  0.30753378  1.11992663\n",
            "  0.66697962 -0.49239291  1.33133742  1.60225713]\n"
          ]
        }
      ]
    },
    {
      "cell_type": "code",
      "source": [
        "arr_csv = np.loadtxt('arr.csv', delimiter=';', skiprows=1)\n",
        "print(arr_csv)"
      ],
      "metadata": {
        "colab": {
          "base_uri": "https://localhost:8080/"
        },
        "id": "pzVKDInkrBo0",
        "outputId": "1390866f-b684-40e7-c6ee-97bccaccdc5b"
      },
      "execution_count": null,
      "outputs": [
        {
          "output_type": "stream",
          "name": "stdout",
          "text": [
            "[[1. 2. 3.]\n",
            " [4. 5. 6.]\n",
            " [7. 8. 9.]]\n"
          ]
        }
      ]
    },
    {
      "cell_type": "markdown",
      "source": [
        "Def-функции:\n",
        "\n",
        "\n",
        "```\n",
        "def func(arg1, arg2):\n",
        "    ...\n",
        "    return obj\n",
        "```\n",
        "\n",
        "Lambda-функции:\n",
        "\n",
        "\n",
        "```\n",
        "func(..., ..., lambda x, y: <...>)\n",
        "```\n",
        "\n"
      ],
      "metadata": {
        "id": "uRl14z4LrhjD"
      }
    },
    {
      "cell_type": "code",
      "source": [
        "arr_func = np.fromfunction(lambda x, y: 3 * x - 2 * y, (2, 3))\n",
        "print(arr_func)\n",
        "print()\n",
        "\n",
        "def f(i, j, k):\n",
        "  return i * (3 + j) + k - 1.5\n",
        "\n",
        "\n",
        "arr_def = np.fromfunction(f, (2, 3, 3))\n",
        "print(arr_def)"
      ],
      "metadata": {
        "colab": {
          "base_uri": "https://localhost:8080/"
        },
        "id": "pmHVe-IJrfrT",
        "outputId": "acc1a45d-c440-46ff-ff87-39337ada782f"
      },
      "execution_count": null,
      "outputs": [
        {
          "output_type": "stream",
          "name": "stdout",
          "text": [
            "[[ 0. -2. -4.]\n",
            " [ 3.  1. -1.]]\n",
            "\n",
            "[[[-1.5 -0.5  0.5]\n",
            "  [-1.5 -0.5  0.5]\n",
            "  [-1.5 -0.5  0.5]]\n",
            "\n",
            " [[ 1.5  2.5  3.5]\n",
            "  [ 2.5  3.5  4.5]\n",
            "  [ 3.5  4.5  5.5]]]\n"
          ]
        }
      ]
    },
    {
      "cell_type": "code",
      "source": [
        "arr_set = np.fromiter({11, 2, 7, 4}, dtype=float)\n",
        "print(arr_set)\n",
        "\n",
        "dic = {1: 2, 2: 4, 7: 49, 4: 16}\n",
        "arr_keys = np.fromiter(dic, dtype=int)\n",
        "arr_values = np.fromiter(dic.values(), dtype=int)\n",
        "print(arr_keys, arr_values, sep='\\n')\n",
        "\n",
        "arr_tuple = np.fromiter((8, 6, 3, 5), dtype=int)\n",
        "print(arr_tuple)"
      ],
      "metadata": {
        "colab": {
          "base_uri": "https://localhost:8080/"
        },
        "id": "RuN-xvYRsppd",
        "outputId": "82803750-f6cb-430d-f73c-0c6bd444195b"
      },
      "execution_count": null,
      "outputs": [
        {
          "output_type": "stream",
          "name": "stdout",
          "text": [
            "[ 2. 11.  4.  7.]\n",
            "[1 2 7 4]\n",
            "[ 2  4 49 16]\n",
            "[8 6 3 5]\n"
          ]
        }
      ]
    },
    {
      "cell_type": "code",
      "source": [
        "import sys\n",
        "import numpy as np\n",
        "\n",
        "# data = sys.stdin.readlines()\n",
        "# data = np.asmatrix(\";\".join(map(str.rstrip, data)))\n",
        "# print(data)\n",
        "\n",
        "temp = '1, 2, 3;4, 5, 6;7, 8, 9'\n",
        "print(np.asmatrix(temp))"
      ],
      "metadata": {
        "colab": {
          "base_uri": "https://localhost:8080/"
        },
        "id": "AchG3i6ZuCx8",
        "outputId": "57d58b41-2f9e-4975-9c8a-b34271464eb4"
      },
      "execution_count": null,
      "outputs": [
        {
          "output_type": "stream",
          "name": "stdout",
          "text": [
            "[[1 2 3]\n",
            " [4 5 6]\n",
            " [7 8 9]]\n"
          ]
        }
      ]
    },
    {
      "cell_type": "code",
      "source": [
        "arr = np.array([[1, 2, 3], [4, 5, 6]])\n",
        "print(arr.shape, np.dtype(arr[0][0]))"
      ],
      "metadata": {
        "colab": {
          "base_uri": "https://localhost:8080/"
        },
        "id": "NilgKcVfwFSW",
        "outputId": "b19d7a5e-b485-4aa3-ed23-86b5e6f5aa15"
      },
      "execution_count": null,
      "outputs": [
        {
          "output_type": "stream",
          "name": "stdout",
          "text": [
            "(2, 3) int64\n"
          ]
        }
      ]
    },
    {
      "cell_type": "code",
      "source": [
        "arr = np.arange(18).reshape(2, 3, 3)\n",
        "arr1 = np.arange(18).reshape(2, 3, -1)\n",
        "print(arr1)"
      ],
      "metadata": {
        "colab": {
          "base_uri": "https://localhost:8080/"
        },
        "id": "qTj4CMGkwfVT",
        "outputId": "adc413d8-df00-4287-a9fe-e43601967726"
      },
      "execution_count": null,
      "outputs": [
        {
          "output_type": "stream",
          "name": "stdout",
          "text": [
            "[[[ 0  1  2]\n",
            "  [ 3  4  5]\n",
            "  [ 6  7  8]]\n",
            "\n",
            " [[ 9 10 11]\n",
            "  [12 13 14]\n",
            "  [15 16 17]]]\n"
          ]
        }
      ]
    },
    {
      "cell_type": "code",
      "source": [
        "arr = np.arange(6).reshape(3, 2)\n",
        "print(arr)\n",
        "arr.resize(2, 3)\n",
        "print(arr)"
      ],
      "metadata": {
        "colab": {
          "base_uri": "https://localhost:8080/"
        },
        "id": "lvfznFU8xRcX",
        "outputId": "dba83a74-e4f8-4d9d-db1d-5904ff6100c3"
      },
      "execution_count": null,
      "outputs": [
        {
          "output_type": "stream",
          "name": "stdout",
          "text": [
            "[[0 1]\n",
            " [2 3]\n",
            " [4 5]]\n",
            "[[0 1 2]\n",
            " [3 4 5]]\n"
          ]
        }
      ]
    },
    {
      "cell_type": "code",
      "source": [
        "arr = np.array([[1, 2, 3],\n",
        "                [4, 5, 6]])\n",
        "print(arr[1][0], arr[0][2])"
      ],
      "metadata": {
        "colab": {
          "base_uri": "https://localhost:8080/"
        },
        "id": "Xl6uObdmxqmh",
        "outputId": "5089880b-7858-437d-96dd-68a8c6e85937"
      },
      "execution_count": null,
      "outputs": [
        {
          "output_type": "stream",
          "name": "stdout",
          "text": [
            "4 3\n"
          ]
        }
      ]
    },
    {
      "cell_type": "code",
      "source": [
        "arr = np.arange(1, 10)\n",
        "print(arr)\n",
        "print(arr[::2])\n",
        "print(arr[1:8:3])\n",
        "print(arr[-7:7])\n",
        "print(arr[-3:3:-1])\n",
        "print(arr[:-6])"
      ],
      "metadata": {
        "colab": {
          "base_uri": "https://localhost:8080/"
        },
        "id": "0Evqcbs2yM5F",
        "outputId": "fd753443-5be6-4d7d-cd46-518d8c344cf8"
      },
      "execution_count": null,
      "outputs": [
        {
          "output_type": "stream",
          "name": "stdout",
          "text": [
            "[1 2 3 4 5 6 7 8 9]\n",
            "[1 3 5 7 9]\n",
            "[2 5 8]\n",
            "[3 4 5 6 7]\n",
            "[7 6 5]\n",
            "[1 2 3]\n"
          ]
        }
      ]
    },
    {
      "cell_type": "code",
      "source": [
        "arr = np.array([[1, 2, 3],\n",
        "                [4, 5, 6],\n",
        "                [7, 8, 9],\n",
        "                [10, 11, 12]])\n",
        "print(arr[1:])\n",
        "print(arr[:, 1:2])\n",
        "print(arr[1:, 1:])"
      ],
      "metadata": {
        "colab": {
          "base_uri": "https://localhost:8080/"
        },
        "id": "lJyyWlrjyvnw",
        "outputId": "cc1151f4-a162-4e70-b61c-c05819b93d37"
      },
      "execution_count": null,
      "outputs": [
        {
          "output_type": "stream",
          "name": "stdout",
          "text": [
            "[[ 4  5  6]\n",
            " [ 7  8  9]\n",
            " [10 11 12]]\n",
            "[[ 2]\n",
            " [ 5]\n",
            " [ 8]\n",
            " [11]]\n",
            "[[ 5  6]\n",
            " [ 8  9]\n",
            " [11 12]]\n"
          ]
        }
      ]
    },
    {
      "cell_type": "code",
      "source": [
        "arr = np.arange(20).reshape((4, 5))\n",
        "print(arr, arr[:3, 1:3], arr[:2, ::2], sep='\\n')"
      ],
      "metadata": {
        "colab": {
          "base_uri": "https://localhost:8080/"
        },
        "id": "j2ZOuB4RzP7v",
        "outputId": "91280a02-ec77-4c07-f016-c0596b07e0dc"
      },
      "execution_count": null,
      "outputs": [
        {
          "output_type": "stream",
          "name": "stdout",
          "text": [
            "[[ 0  1  2  3  4]\n",
            " [ 5  6  7  8  9]\n",
            " [10 11 12 13 14]\n",
            " [15 16 17 18 19]]\n",
            "[[ 1  2]\n",
            " [ 6  7]\n",
            " [11 12]]\n",
            "[[0 2 4]\n",
            " [5 7 9]]\n"
          ]
        }
      ]
    },
    {
      "cell_type": "code",
      "source": [
        "arr = np.arange(30).reshape((2, 3, 5))\n",
        "print(arr)\n",
        "# Эквивалентно\n",
        "print(arr[:, :, 1:3], arr[..., 1:3], sep='\\n\\n')"
      ],
      "metadata": {
        "colab": {
          "base_uri": "https://localhost:8080/"
        },
        "id": "NM5qbkCtzqAy",
        "outputId": "9bad109d-ae8e-49fd-d876-cb475fcdae8d"
      },
      "execution_count": null,
      "outputs": [
        {
          "output_type": "stream",
          "name": "stdout",
          "text": [
            "[[[ 0  1  2  3  4]\n",
            "  [ 5  6  7  8  9]\n",
            "  [10 11 12 13 14]]\n",
            "\n",
            " [[15 16 17 18 19]\n",
            "  [20 21 22 23 24]\n",
            "  [25 26 27 28 29]]]\n",
            "[[[ 1  2]\n",
            "  [ 6  7]\n",
            "  [11 12]]\n",
            "\n",
            " [[16 17]\n",
            "  [21 22]\n",
            "  [26 27]]]\n",
            "\n",
            "[[[ 1  2]\n",
            "  [ 6  7]\n",
            "  [11 12]]\n",
            "\n",
            " [[16 17]\n",
            "  [21 22]\n",
            "  [26 27]]]\n"
          ]
        }
      ]
    },
    {
      "cell_type": "code",
      "source": [
        "# Эквивалентно\n",
        "print(arr[1])\n",
        "print(arr[1, :, :])\n",
        "print(arr[1, ...])"
      ],
      "metadata": {
        "colab": {
          "base_uri": "https://localhost:8080/"
        },
        "id": "JNcgOr_Y0cQ-",
        "outputId": "c7f087d0-308d-4414-bee9-0cb7dd091cc7"
      },
      "execution_count": null,
      "outputs": [
        {
          "output_type": "stream",
          "name": "stdout",
          "text": [
            "[[15 16 17 18 19]\n",
            " [20 21 22 23 24]\n",
            " [25 26 27 28 29]]\n",
            "[[15 16 17 18 19]\n",
            " [20 21 22 23 24]\n",
            " [25 26 27 28 29]]\n",
            "[[15 16 17 18 19]\n",
            " [20 21 22 23 24]\n",
            " [25 26 27 28 29]]\n"
          ]
        }
      ]
    },
    {
      "cell_type": "code",
      "source": [
        "arr = np.arange(1, 10)\n",
        "print(arr[arr % 2 == 0])"
      ],
      "metadata": {
        "colab": {
          "base_uri": "https://localhost:8080/"
        },
        "id": "XCbgAn0x0sD4",
        "outputId": "4c0431e1-15ca-4656-c323-900cfd244db9"
      },
      "execution_count": null,
      "outputs": [
        {
          "output_type": "stream",
          "name": "stdout",
          "text": [
            "[2 4 6 8]\n"
          ]
        }
      ]
    },
    {
      "cell_type": "code",
      "source": [
        "arr1 = np.arange(1, 10)\n",
        "cond = arr1 % 2 != 0\n",
        "print(cond)\n",
        "print(arr1[cond])"
      ],
      "metadata": {
        "colab": {
          "base_uri": "https://localhost:8080/"
        },
        "id": "2snnYghA03Kn",
        "outputId": "6ee373a6-493c-4f65-995a-a5fa4cc310eb"
      },
      "execution_count": null,
      "outputs": [
        {
          "output_type": "stream",
          "name": "stdout",
          "text": [
            "[ True False  True False  True False  True False  True]\n",
            "[1 3 5 7 9]\n"
          ]
        }
      ]
    },
    {
      "cell_type": "code",
      "source": [
        "arr = np.arange(20).reshape(4, 5)\n",
        "print(arr)\n",
        "cond = arr % 3 == 0\n",
        "print(cond)\n",
        "print(arr[cond])"
      ],
      "metadata": {
        "colab": {
          "base_uri": "https://localhost:8080/"
        },
        "id": "BaNw-edE1P0d",
        "outputId": "f0bf7026-a796-4fba-a935-49397acbffec"
      },
      "execution_count": null,
      "outputs": [
        {
          "output_type": "stream",
          "name": "stdout",
          "text": [
            "[[ 0  1  2  3  4]\n",
            " [ 5  6  7  8  9]\n",
            " [10 11 12 13 14]\n",
            " [15 16 17 18 19]]\n",
            "[[ True False False  True False]\n",
            " [False  True False False  True]\n",
            " [False False  True False False]\n",
            " [ True False False  True False]]\n",
            "[ 0  3  6  9 12 15 18]\n"
          ]
        }
      ]
    },
    {
      "cell_type": "markdown",
      "source": [
        "# Арифметические операции"
      ],
      "metadata": {
        "id": "c651lKca1wvA"
      }
    },
    {
      "cell_type": "code",
      "source": [
        "arr = np.arange(20).reshape((4, 5))\n",
        "arr1 = np.linspace(-20, 20, num=20, dtype=np.int_).reshape(4, 5)\n",
        "print(arr, arr1, sep='\\n\\n')"
      ],
      "metadata": {
        "colab": {
          "base_uri": "https://localhost:8080/"
        },
        "id": "m5ISv0eh1y7n",
        "outputId": "5c9b3aa4-ea75-4d2c-8398-8b99f7ca06b9"
      },
      "execution_count": null,
      "outputs": [
        {
          "output_type": "stream",
          "name": "stdout",
          "text": [
            "[[ 0  1  2  3  4]\n",
            " [ 5  6  7  8  9]\n",
            " [10 11 12 13 14]\n",
            " [15 16 17 18 19]]\n",
            "\n",
            "[[-20 -18 -16 -14 -12]\n",
            " [-10  -8  -6  -4  -2]\n",
            " [  1   3   5   7   9]\n",
            " [ 11  13  15  17  20]]\n"
          ]
        }
      ]
    },
    {
      "cell_type": "code",
      "source": [
        "print(arr - arr1)\n",
        "print(arr + arr1)\n",
        "print(arr * arr1)\n",
        "print(arr / arr1)\n",
        "print(arr // arr1)\n",
        "print(arr % arr1)\n",
        "print(arr ** 3)"
      ],
      "metadata": {
        "colab": {
          "base_uri": "https://localhost:8080/"
        },
        "id": "GRBZBGE72J-Y",
        "outputId": "023c3261-ac5c-418d-d6e3-b83585ee8e51"
      },
      "execution_count": null,
      "outputs": [
        {
          "output_type": "stream",
          "name": "stdout",
          "text": [
            "[[20 19 18 17 16]\n",
            " [15 14 13 12 11]\n",
            " [ 9  8  7  6  5]\n",
            " [ 4  3  2  1 -1]]\n",
            "[[-20 -17 -14 -11  -8]\n",
            " [ -5  -2   1   4   7]\n",
            " [ 11  14  17  20  23]\n",
            " [ 26  29  32  35  39]]\n",
            "[[  0 -18 -32 -42 -48]\n",
            " [-50 -48 -42 -32 -18]\n",
            " [ 10  33  60  91 126]\n",
            " [165 208 255 306 380]]\n",
            "[[-0.         -0.05555556 -0.125      -0.21428571 -0.33333333]\n",
            " [-0.5        -0.75       -1.16666667 -2.         -4.5       ]\n",
            " [10.          3.66666667  2.4         1.85714286  1.55555556]\n",
            " [ 1.36363636  1.23076923  1.13333333  1.05882353  0.95      ]]\n",
            "[[ 0 -1 -1 -1 -1]\n",
            " [-1 -1 -2 -2 -5]\n",
            " [10  3  2  1  1]\n",
            " [ 1  1  1  1  0]]\n",
            "[[  0 -17 -14 -11  -8]\n",
            " [ -5  -2  -5   0  -1]\n",
            " [  0   2   2   6   5]\n",
            " [  4   3   2   1  19]]\n",
            "[[   0    1    8   27   64]\n",
            " [ 125  216  343  512  729]\n",
            " [1000 1331 1728 2197 2744]\n",
            " [3375 4096 4913 5832 6859]]\n"
          ]
        }
      ]
    },
    {
      "cell_type": "code",
      "source": [
        "vector = np.array([2, 3, 4, 5]).reshape((4, 1))\n",
        "print(vector)\n",
        "\n",
        "print(arr * vector)"
      ],
      "metadata": {
        "colab": {
          "base_uri": "https://localhost:8080/"
        },
        "id": "wHPb_sna2yCg",
        "outputId": "aca6d25b-e004-4d11-ac64-19073e37b618"
      },
      "execution_count": null,
      "outputs": [
        {
          "output_type": "stream",
          "name": "stdout",
          "text": [
            "[[2]\n",
            " [3]\n",
            " [4]\n",
            " [5]]\n",
            "[[ 0  2  4  6  8]\n",
            " [15 18 21 24 27]\n",
            " [40 44 48 52 56]\n",
            " [75 80 85 90 95]]\n"
          ]
        }
      ]
    },
    {
      "cell_type": "code",
      "source": [
        "arr = np.linspace(-20, 20, num=20, dtype=np.int_).reshape((4, 5))\n",
        "print(arr)\n",
        "arr[arr < 0] += 5\n",
        "print(arr)"
      ],
      "metadata": {
        "colab": {
          "base_uri": "https://localhost:8080/"
        },
        "id": "tnKwhjxV3EoF",
        "outputId": "f31868a6-d6bb-4d2d-8095-aaa320ca5429"
      },
      "execution_count": null,
      "outputs": [
        {
          "output_type": "stream",
          "name": "stdout",
          "text": [
            "[[-20 -18 -16 -14 -12]\n",
            " [-10  -8  -6  -4  -2]\n",
            " [  1   3   5   7   9]\n",
            " [ 11  13  15  17  20]]\n",
            "[[-15 -13 -11  -9  -7]\n",
            " [ -5  -3  -1   1   3]\n",
            " [  1   3   5   7   9]\n",
            " [ 11  13  15  17  20]]\n"
          ]
        }
      ]
    }
  ]
}